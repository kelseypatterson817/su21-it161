{
  "nbformat": 4,
  "nbformat_minor": 0,
  "metadata": {
    "colab": {
      "name": "Copy of 1_intro_to_python.ipynb",
      "provenance": [],
      "include_colab_link": true
    },
    "kernelspec": {
      "name": "python3",
      "display_name": "Python 3"
    }
  },
  "cells": [
    {
      "cell_type": "markdown",
      "metadata": {
        "id": "view-in-github",
        "colab_type": "text"
      },
      "source": [
        "<a href=\"https://colab.research.google.com/github/kelseypatterson817/su21-it161/blob/main/w1_intro_to_python.ipynb\" target=\"_parent\"><img src=\"https://colab.research.google.com/assets/colab-badge.svg\" alt=\"Open In Colab\"/></a>"
      ]
    },
    {
      "cell_type": "markdown",
      "metadata": {
        "id": "SNflEjbtA8T_"
      },
      "source": [
        "\n",
        "**Reading**\n",
        "\n",
        "Review the syllabus and post any questions on the Q&A forum\n",
        "\n",
        "\n",
        "zyBooks Ch 1 Introduction to Python 3, assigned sections\n",
        "\n",
        "\n",
        "**Reference**\n",
        "\n",
        "[Python Basics Cheatsheet](https://www.pythoncheatsheet.org/#Python-Basics)\n",
        "\n",
        "[Repl: Easy to use, cloud based code editor](https://replit.com/languages/python3)  \n",
        "\n",
        "**Practice**\n",
        "\n",
        "zyBooks Ch 1 Practice (graded participation activity)\n",
        "\n",
        "**Learning Outcomes**\n",
        "\n",
        "\n",
        "*   Gain an understanding of general programming Concepts\n",
        "*   Gain an understanding of the Python programming language\n",
        "*   Work with Input and Output (I/O)\n",
        "*   Identify different types of coding errors and how to troubleshoot them.\n",
        "*   Gain an understanding of Python development environments\n",
        "*   Identify the basics of Computers and Programs and languages history\n",
        "\n",
        "\n",
        "\n",
        "**Example**"
      ]
    },
    {
      "cell_type": "code",
      "metadata": {
        "colab": {
          "base_uri": "https://localhost:8080/"
        },
        "id": "F1P_UVXxZiUk",
        "outputId": "58b52a35-9451-4ad7-e536-115f3bbcc7e9"
      },
      "source": [
        "# A programming tradition. Start with the Hello, World program\n",
        "print(\"Hello, World\")"
      ],
      "execution_count": null,
      "outputs": [
        {
          "output_type": "stream",
          "text": [
            "Hello, World\n"
          ],
          "name": "stdout"
        }
      ]
    },
    {
      "cell_type": "code",
      "metadata": {
        "colab": {
          "base_uri": "https://localhost:8080/"
        },
        "id": "DGdTjutmbYHk",
        "outputId": "35a6b1e6-eab1-42b4-b663-d2d633d24d5f"
      },
      "source": [
        "# Evaluate an expression and print it\n",
        "print(42 + 7)\n"
      ],
      "execution_count": null,
      "outputs": [
        {
          "output_type": "stream",
          "text": [
            "49\n"
          ],
          "name": "stdout"
        }
      ]
    },
    {
      "cell_type": "code",
      "metadata": {
        "colab": {
          "base_uri": "https://localhost:8080/"
        },
        "id": "JrzGKdN7bamm",
        "outputId": "c3b7772f-1b4c-409b-fddf-6991d2665a80"
      },
      "source": [
        "# Text is written in \" \" and prints as is (not an expression)\n",
        "print(\"Add up two numbers: 42 + 7 = \", 24 + 7)"
      ],
      "execution_count": null,
      "outputs": [
        {
          "output_type": "stream",
          "text": [
            "Add up two numbers: 42 + 7 =  31\n"
          ],
          "name": "stdout"
        }
      ]
    },
    {
      "cell_type": "code",
      "metadata": {
        "colab": {
          "base_uri": "https://localhost:8080/"
        },
        "id": "04Qu7TjObj2y",
        "outputId": "fa94e802-bd2d-4602-bf9d-cafa397079f8"
      },
      "source": [
        "# Get user input and use it in a print statement\n",
        "person_name = input(\"Enter your name: \")    \n",
        "print(\"Hello,\",person_name)\n"
      ],
      "execution_count": null,
      "outputs": [
        {
          "output_type": "stream",
          "text": [
            "Enter your name: Ava\n",
            "Hello, Ava\n"
          ],
          "name": "stdout"
        }
      ]
    },
    {
      "cell_type": "code",
      "metadata": {
        "id": "08kd5CKLByoZ"
      },
      "source": [
        "# Temperature  converter\n",
        "celsius = float(input(\"Enter the Celsius temperature? \"))"
      ],
      "execution_count": null,
      "outputs": []
    },
    {
      "cell_type": "code",
      "metadata": {
        "id": "0VfRgHi9DWrz",
        "colab": {
          "base_uri": "https://localhost:8080/"
        },
        "outputId": "3b3028bd-16ec-498f-cea5-65b1019110c8"
      },
      "source": [
        "fahrenheit = 9/5 * celsius + 32\n",
        "print(\"The Fahrenheit temperature is\", fahrenheit)"
      ],
      "execution_count": null,
      "outputs": [
        {
          "output_type": "stream",
          "text": [
            "The Fahrenheit temperature is 104.0\n"
          ],
          "name": "stdout"
        }
      ]
    },
    {
      "cell_type": "markdown",
      "metadata": {
        "id": "WEp5Tk19By7i"
      },
      "source": [
        ""
      ]
    }
  ]
}